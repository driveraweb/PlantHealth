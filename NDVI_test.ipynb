{
 "cells": [
  {
   "cell_type": "markdown",
   "metadata": {},
   "source": [
    "# NDVI with OpenCV"
   ]
  },
  {
   "cell_type": "markdown",
   "metadata": {},
   "source": [
    "This program tests NDVI calculation on a 1080p (1920x1080) RGB image and a 500x375 RGN image"
   ]
  },
  {
   "cell_type": "code",
   "execution_count": 22,
   "metadata": {
    "collapsed": true
   },
   "outputs": [],
   "source": [
    "import numpy as np\n",
    "from PIL import Image"
   ]
  },
  {
   "cell_type": "markdown",
   "metadata": {},
   "source": [
    "### First Image"
   ]
  },
  {
   "cell_type": "code",
   "execution_count": 266,
   "metadata": {},
   "outputs": [],
   "source": [
    "im = Image.open('./Images/test1.jpg')\n",
    "\n",
    "data = np.array(im)   # \"data\" is a height x width x 4 numpy array\n",
    "red, _, blue = data.T # Temporarily unpack the bands for readability\n",
    "nir = red.astype(float)\n",
    "red = blue.astype(float) #pretend blue band is NIR\n",
    "\n",
    "\n",
    "#compute NDVI and convert to pixel intensity\n",
    "den = nir+red\n",
    "den[den==0] = 0.0001\n",
    "ndvi = (nir-red)/den\n",
    "ndvi = (ndvi+1) * 128\n",
    "ndvi = ndvi.astype('uint8')\n",
    "\n",
    "im = Image.fromarray(ndvi.T)\n",
    "im.show()\n",
    "im.save(fp='./Images/test1_NDVI_gray.jpg')"
   ]
  },
  {
   "cell_type": "markdown",
   "metadata": {},
   "source": [
    "### Second Image"
   ]
  },
  {
   "cell_type": "code",
   "execution_count": 260,
   "metadata": {
    "scrolled": true
   },
   "outputs": [],
   "source": [
    "im = Image.open('./Images/river.jpg')\n",
    "\n",
    "data = np.array(im)   # \"data\" is a height x width x 4 numpy array\n",
    "red, _, blue = data.T # Temporarily unpack the bands for readability\n",
    "nir = red.astype(float)\n",
    "red = blue.astype(float) #pretend blue band is NIR\n",
    "\n",
    "\n",
    "#compute NDVI and convert to pixel intensity\n",
    "den = nir+red\n",
    "den[den==0] = 0.0001\n",
    "ndvi = (nir-red)/den\n",
    "ndvi = (ndvi+1) * 128\n",
    "ndvi = ndvi.astype('uint8')\n",
    "\n",
    "im2 = Image.fromarray(ndvi.T)\n",
    "im2.show()\n",
    "im2.save(fp='./Images/river_NDVI_gray.jpg')"
   ]
  },
  {
   "cell_type": "code",
   "execution_count": null,
   "metadata": {
    "collapsed": true
   },
   "outputs": [],
   "source": []
  }
 ],
 "metadata": {
  "kernelspec": {
   "display_name": "Python 3",
   "language": "python",
   "name": "python3"
  },
  "language_info": {
   "codemirror_mode": {
    "name": "ipython",
    "version": 3
   },
   "file_extension": ".py",
   "mimetype": "text/x-python",
   "name": "python",
   "nbconvert_exporter": "python",
   "pygments_lexer": "ipython3",
   "version": "3.6.1"
  }
 },
 "nbformat": 4,
 "nbformat_minor": 2
}
