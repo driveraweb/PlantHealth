{
 "cells": [
  {
   "cell_type": "markdown",
   "metadata": {},
   "source": [
    "# First test using SKImage"
   ]
  },
  {
   "cell_type": "code",
   "execution_count": 1,
   "metadata": {
    "collapsed": true
   },
   "outputs": [],
   "source": [
    "import numpy as np\n",
    "import matplotlib.pyplot as plt\n",
    "from time import time\n",
    "from skimage import data\n",
    "from skimage.feature import register_translation\n",
    "from skimage.feature.register_translation import _upsampled_dft\n",
    "from scipy.ndimage import fourier_shift\n",
    "from scipy.ndimage.interpolation import shift\n",
    "\n",
    "import cv2\n",
    "import numpy as np\n",
    "from PIL import Image\n",
    "\n",
    "import sys\n",
    "sys.path.append('../..')\n",
    "from core import *\n",
    "from utils import *\n",
    "\n",
    "t_elapsed = 0"
   ]
  },
  {
   "cell_type": "code",
   "execution_count": null,
   "metadata": {
    "collapsed": true
   },
   "outputs": [],
   "source": [
    "def show_img(img1, img2):\n",
    "    fig = plt.figure(figsize=(15, 5))\n",
    "    ax1 = plt.subplot(1, 3, 1)\n",
    "    ax2 = plt.subplot(1, 3, 2, sharex=ax1, sharey=ax1)\n",
    "    ax3 = plt.subplot(1, 3, 3)\n",
    "\n",
    "    ax1.imshow(img1, cmap='gray')\n",
    "    ax1.set_axis_off()\n",
    "    ax1.set_title('Reference image')\n",
    "\n",
    "    ax2.imshow(img2.real, cmap='gray')\n",
    "    ax2.set_axis_off()\n",
    "    ax2.set_title('NIR image')\n",
    "\n",
    "    # Show the output of a cross-correlation to show what the algorithm is\n",
    "    # doing behind the scenes\n",
    "    image_product = np.fft.fft2(img1) * np.fft.fft2(img2).conj()\n",
    "    cc_image = np.fft.fftshift(np.fft.ifft2(image_product))\n",
    "    ax3.imshow(cc_image.real)\n",
    "    ax3.set_axis_off()\n",
    "    ax3.set_title(\"Cross-correlation\")\n",
    "\n",
    "    plt.show()"
   ]
  },
  {
   "cell_type": "markdown",
   "metadata": {},
   "source": [
    "### open images and color map lookup table"
   ]
  },
  {
   "cell_type": "code",
   "execution_count": null,
   "metadata": {
    "collapsed": true
   },
   "outputs": [],
   "source": [
    "cmap = np.genfromtxt('../../cmap.csv', delimiter=',')\n",
    "#kernel = np.ones((5,5),np.float32)/25\n",
    "img = cv2.imread('../Images/RGB.png')\n",
    "img = cv2.medianBlur(img,5)#GaussianBlur(img,(5,5),0)\n",
    "#print(img.shape)\n",
    "[b, g, r] = channelSplit(img)\n",
    "r = np.asarray(r.T[0]).astype(float).T\n",
    "b = np.asarray(b.T[0]).astype(float).T\n",
    "g = np.asarray(g.T[0]).astype(float).T\n",
    "\n",
    "img2 = cv2.imread('../Images/NGB.png')\n",
    "img2 = cv2.medianBlur(img2,5)#GaussianBlur(img2,(5,5),0)\n",
    "#print(img.shape)\n",
    "[b2, g2, r2] = channelSplit(img2)\n",
    "r2 = np.asarray(r2.T[0]).astype(float).T\n",
    "b2= np.asarray(b2.T[0]).astype(float).T\n",
    "g2 = np.asarray(g2.T[0]).astype(float).T"
   ]
  },
  {
   "cell_type": "markdown",
   "metadata": {},
   "source": [
    "### find offset between images"
   ]
  },
  {
   "cell_type": "code",
   "execution_count": null,
   "metadata": {
    "collapsed": true,
    "scrolled": true
   },
   "outputs": [],
   "source": [
    "Rimg = r #red pixel set from pi camera\n",
    "NIRoff = r2 #NIR pixel set from NOIR camera"
   ]
  },
  {
   "cell_type": "code",
   "execution_count": null,
   "metadata": {},
   "outputs": [],
   "source": [
    "show_img(Rimg, NIRoff)\n",
    "t_new = time()\n",
    "shiftXY, error, diffphase = register_translation(Rimg, NIRoff) \n",
    "t_elapsed += time() - t_new\n",
    "print(\"time = \"+ str(t_elapsed))\n",
    "print(\"Detected pixel offset (y, x): {}\".format(shiftXY))\n"
   ]
  },
  {
   "cell_type": "markdown",
   "metadata": {},
   "source": [
    "### Shift NIR image"
   ]
  },
  {
   "cell_type": "markdown",
   "metadata": {},
   "source": [
    "#### Iteration 1"
   ]
  },
  {
   "cell_type": "code",
   "execution_count": null,
   "metadata": {},
   "outputs": [],
   "source": [
    "t_new = time()\n",
    "NIRimg = shift(NIRoff, np.array(shiftXY))\n",
    "t_elapsed += time() - t_new\n",
    "print(\"time = \"+ str(t_elapsed))"
   ]
  },
  {
   "cell_type": "code",
   "execution_count": null,
   "metadata": {},
   "outputs": [],
   "source": [
    "show_img(Rimg, NIRimg)\n",
    "shiftXY, error, diffphase = register_translation(Rimg, NIRimg)\n",
    "print(\"Detected pixel offset (y, x): {}\".format(shiftXY))"
   ]
  },
  {
   "cell_type": "markdown",
   "metadata": {},
   "source": [
    "#### check NDVI"
   ]
  },
  {
   "cell_type": "code",
   "execution_count": null,
   "metadata": {
    "collapsed": true
   },
   "outputs": [],
   "source": []
  },
  {
   "cell_type": "markdown",
   "metadata": {},
   "source": [
    "# Additional test with same images using imreg_dft"
   ]
  },
  {
   "cell_type": "code",
   "execution_count": null,
   "metadata": {
    "collapsed": true
   },
   "outputs": [],
   "source": [
    "import imreg_dft\n",
    "t_elapsed = 0"
   ]
  },
  {
   "cell_type": "code",
   "execution_count": null,
   "metadata": {},
   "outputs": [],
   "source": [
    "#t_new = time()\n",
    "trans = imreg_dft.imreg.similarity(Rimg, NIRoff)\n",
    "#t_elapsed += time() - t_new\n",
    "print(\"time = \"+ str(t_elapsed))\n",
    "show_img(Rimg,trans['timg'])"
   ]
  },
  {
   "cell_type": "markdown",
   "metadata": {},
   "source": [
    "#### check NDVI"
   ]
  },
  {
   "cell_type": "code",
   "execution_count": null,
   "metadata": {
    "scrolled": true
   },
   "outputs": [],
   "source": [
    "init('../../cmap.csv')\n",
    "ndvi_img = ndvi_map(Rimg, trans['timg'])\n",
    "NDVI_imregdft = Image.fromarray(ndvi_img)\n",
    "\n",
    "ndvi_img = ndvi_map(Rimg, NIRimg)\n",
    "NDVI_skimage = Image.fromarray(ndvi_img)"
   ]
  },
  {
   "cell_type": "code",
   "execution_count": null,
   "metadata": {
    "collapsed": true
   },
   "outputs": [],
   "source": [
    "NDVI_skimage.save('../Images/NDVI_skimage.jpg')\n",
    "NDVI_imregdft.save('../Images/NDVI_imregdft.jpg')"
   ]
  },
  {
   "cell_type": "markdown",
   "metadata": {
    "collapsed": true
   },
   "source": [
    "# AT THE END WE WANT TO SAVE 8-BIT BMP IMAGES   \n",
    "UNless theere is a faster way"
   ]
  },
  {
   "cell_type": "code",
   "execution_count": 41,
   "metadata": {},
   "outputs": [
    {
     "name": "stdout",
     "output_type": "stream",
     "text": [
      "0.03595733642578125\n"
     ]
    }
   ],
   "source": [
    "t = time()\n",
    "\n",
    "img = cv2.imread('../Images/RGB.png')\n",
    "img = cv2.imread('../Images/NGB.png')\n",
    "\n",
    "\n",
    "print(time() - t)\n"
   ]
  },
  {
   "cell_type": "code",
   "execution_count": 32,
   "metadata": {},
   "outputs": [
    {
     "name": "stdout",
     "output_type": "stream",
     "text": [
      "0.020498037338256836\n"
     ]
    }
   ],
   "source": [
    "t = time()\n",
    "img = Image.fromarray(img).save('junk.jpg')\n",
    "print(time() - t)"
   ]
  },
  {
   "cell_type": "code",
   "execution_count": null,
   "metadata": {
    "collapsed": true
   },
   "outputs": [],
   "source": []
  },
  {
   "cell_type": "code",
   "execution_count": null,
   "metadata": {
    "collapsed": true
   },
   "outputs": [],
   "source": []
  }
 ],
 "metadata": {
  "kernelspec": {
   "display_name": "Python 3",
   "language": "python",
   "name": "python3"
  },
  "language_info": {
   "codemirror_mode": {
    "name": "ipython",
    "version": 3
   },
   "file_extension": ".py",
   "mimetype": "text/x-python",
   "name": "python",
   "nbconvert_exporter": "python",
   "pygments_lexer": "ipython3",
   "version": "3.6.1"
  }
 },
 "nbformat": 4,
 "nbformat_minor": 2
}
