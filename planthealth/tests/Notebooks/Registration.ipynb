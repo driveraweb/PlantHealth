{
 "cells": [
  {
   "cell_type": "code",
   "execution_count": 1,
   "metadata": {},
   "outputs": [],
   "source": [
    "import sys\n",
    "sys.path.append('../..')\n",
    "import core\n",
    "from config import *\n",
    "import numpy as np\n",
    "import cv2"
   ]
  },
  {
   "cell_type": "code",
   "execution_count": 2,
   "metadata": {},
   "outputs": [
    {
     "data": {
      "text/plain": [
       "array([[  9.40482450e-01,   4.97998904e-04,   7.96248223e+00],\n",
       "       [ -1.89591995e-02,   9.40783691e-01,   3.64664430e+01],\n",
       "       [ -6.78557578e-05,  -1.75746618e-05,   1.00000000e+00]])"
      ]
     },
     "execution_count": 2,
     "metadata": {},
     "output_type": "execute_result"
    }
   ],
   "source": [
    "H"
   ]
  },
  {
   "cell_type": "code",
   "execution_count": 3,
   "metadata": {},
   "outputs": [],
   "source": [
    "h = np.array([[  0.50482450e00,   4.97998904e-04,   7.96248223e+00],\n",
    "           [ -1.89591995e-02,   9.40783691e-01,   3.64664430e+01],\n",
    "           [ -6.78557578e-05,  -1.75746618e-05,   1.00000000e+00]])"
   ]
  },
  {
   "cell_type": "code",
   "execution_count": 4,
   "metadata": {},
   "outputs": [
    {
     "data": {
      "text/plain": [
       "False"
      ]
     },
     "execution_count": 4,
     "metadata": {},
     "output_type": "execute_result"
    }
   ],
   "source": [
    "np.allclose(h, H, rtol=0, atol=0.4)"
   ]
  },
  {
   "cell_type": "markdown",
   "metadata": {},
   "source": [
    "# Input Points of images to create homography"
   ]
  },
  {
   "cell_type": "code",
   "execution_count": 7,
   "metadata": {},
   "outputs": [
    {
     "name": "stdout",
     "output_type": "stream",
     "text": [
      "[[  9.71631909e-01  -1.54878188e-02  -1.46369618e+01]\n",
      " [ -3.33086365e-02   9.84860098e-01   3.64641936e+01]\n",
      " [ -4.17403109e-05  -5.89073275e-06   1.00000000e+00]]\n"
     ]
    },
    {
     "data": {
      "text/plain": [
       "-1"
      ]
     },
     "execution_count": 7,
     "metadata": {},
     "output_type": "execute_result"
    }
   ],
   "source": [
    "# Read source image.\n",
    "im_src = cv2.imread('../../../SavedImages/2018-11-27-11-16-46_im.jpg')\n",
    "# Four corners of the book in source image\n",
    "pts_src = np.array([[208, 145], [280, 245], [471, 144],[508, 258]])\n",
    "\n",
    "\n",
    "# Read destination image.\n",
    "im_dst = cv2.imread('../../../SavedImages/2018-11-27-11-16-46_Ref.jpg')\n",
    "# Four corners of the book in destination image.\n",
    "pts_dst = np.array([[187, 174],[257, 272],[450, 166],[486, 280]])\n",
    "\n",
    "# Calculate Homography\n",
    "h, status = cv2.findHomography(pts_src, pts_dst)\n",
    "print(h)\n",
    "\n",
    "# Warp source image to destination based on homography\n",
    "im_out = cv2.warpPerspective(im_src, h, (im_dst.shape[1],im_dst.shape[0]))\n",
    "\n",
    "# Display images\n",
    "#cv2.imshow(\"Source Image\", im_src)\n",
    "#cv2.imshow(\"Destination Image\", im_dst)\n",
    "#cv2.imshow(\"Warped Source Image\", im_out)\n",
    "\n",
    "cv2.waitKey(5000)"
   ]
  },
  {
   "cell_type": "markdown",
   "metadata": {},
   "source": [
    "## Check NDVI map"
   ]
  },
  {
   "cell_type": "code",
   "execution_count": 3,
   "metadata": {},
   "outputs": [
    {
     "data": {
      "text/plain": [
       "-1"
      ]
     },
     "execution_count": 3,
     "metadata": {},
     "output_type": "execute_result"
    }
   ],
   "source": [
    "[_,_,NIR] = cv2.split(im_out)\n",
    "[_,_,R]   = cv2.split(im_dst)\n",
    "\n",
    "NDVI = core.ndvi_map(R, NIR)\n",
    "NDVI = cv2.cvtColor(NDVI, cv2.COLOR_RGB2BGR)\n",
    "cv2.imshow(\"Warped Source Image\", NDVI)\n",
    "cv2.waitKey(0)"
   ]
  },
  {
   "cell_type": "markdown",
   "metadata": {},
   "source": [
    "# Different Points"
   ]
  },
  {
   "cell_type": "code",
   "execution_count": 8,
   "metadata": {},
   "outputs": [
    {
     "name": "stdout",
     "output_type": "stream",
     "text": [
      "[[  9.71631909e-01  -1.54878188e-02  -1.46369618e+01]\n",
      " [ -3.33086365e-02   9.84860098e-01   3.64641936e+01]\n",
      " [ -4.17403109e-05  -5.89073275e-06   1.00000000e+00]]\n",
      "[[  9.65674440e-01   4.69856447e-02  -2.22296589e+01]\n",
      " [ -2.15046768e-02   9.81410102e-01   3.99883613e+01]\n",
      " [ -4.83138373e-05  -9.09645768e-06   1.00000000e+00]]\n"
     ]
    },
    {
     "data": {
      "text/plain": [
       "-1"
      ]
     },
     "execution_count": 8,
     "metadata": {},
     "output_type": "execute_result"
    }
   ],
   "source": [
    "# Read source image.\n",
    "im_src = cv2.imread('../../../SavedImages/2018-11-27-11-16-46_im.jpg')\n",
    "# Four corners of the book in source image\n",
    "pts_src = np.array([[87,20], [350,16], [106,72],[348,75]])\n",
    "\n",
    "\n",
    "# Read destination image.\n",
    "im_dst = cv2.imread('../../../SavedImages/2018-11-27-11-16-46_Ref.jpg')\n",
    "# Four corners of the book in destination image.\n",
    "pts_dst = np.array([[63,58],[322,49],[84,109],[323,108]])\n",
    "\n",
    "# Calculate Homography\n",
    "h2, status = cv2.findHomography(pts_src, pts_dst)\n",
    "print(h)\n",
    "print(h2)\n",
    "\n",
    "# Warp source image to destination based on homography\n",
    "im_out = cv2.warpPerspective(im_src, h2, (im_dst.shape[1],im_dst.shape[0]))\n",
    "\n",
    "# Display images\n",
    "#cv2.imshow(\"Source Image\", im_src)\n",
    "#cv2.imshow(\"Destination Image\", im_dst)\n",
    "#cv2.imshow(\"Warped Source Image\", im_out)\n",
    "\n",
    "cv2.waitKey(5000)"
   ]
  },
  {
   "cell_type": "markdown",
   "metadata": {},
   "source": [
    "## Check NDVI map"
   ]
  },
  {
   "cell_type": "code",
   "execution_count": 5,
   "metadata": {},
   "outputs": [
    {
     "data": {
      "text/plain": [
       "-1"
      ]
     },
     "execution_count": 5,
     "metadata": {},
     "output_type": "execute_result"
    }
   ],
   "source": [
    "[_,_,NIR] = cv2.split(im_out)\n",
    "[_,_,R]   = cv2.split(im_dst)\n",
    "\n",
    "NDVI = core.ndvi_map(R, NIR)\n",
    "NDVI = cv2.cvtColor(NDVI, cv2.COLOR_RGB2BGR)\n",
    "cv2.imshow(\"Warped Source Image\", NDVI)\n",
    "cv2.waitKey(5000)"
   ]
  },
  {
   "cell_type": "code",
   "execution_count": null,
   "metadata": {},
   "outputs": [],
   "source": []
  }
 ],
 "metadata": {
  "kernelspec": {
   "display_name": "Python 3",
   "language": "python",
   "name": "python3"
  },
  "language_info": {
   "codemirror_mode": {
    "name": "ipython",
    "version": 3
   },
   "file_extension": ".py",
   "mimetype": "text/x-python",
   "name": "python",
   "nbconvert_exporter": "python",
   "pygments_lexer": "ipython3",
   "version": "3.6.1"
  },
  "toc": {
   "base_numbering": 1,
   "nav_menu": {},
   "number_sections": true,
   "sideBar": true,
   "skip_h1_title": false,
   "title_cell": "Table of Contents",
   "title_sidebar": "Contents",
   "toc_cell": false,
   "toc_position": {},
   "toc_section_display": true,
   "toc_window_display": false
  },
  "varInspector": {
   "cols": {
    "lenName": 16,
    "lenType": 16,
    "lenVar": 40
   },
   "kernels_config": {
    "python": {
     "delete_cmd_postfix": "",
     "delete_cmd_prefix": "del ",
     "library": "var_list.py",
     "varRefreshCmd": "print(var_dic_list())"
    },
    "r": {
     "delete_cmd_postfix": ") ",
     "delete_cmd_prefix": "rm(",
     "library": "var_list.r",
     "varRefreshCmd": "cat(var_dic_list()) "
    }
   },
   "types_to_exclude": [
    "module",
    "function",
    "builtin_function_or_method",
    "instance",
    "_Feature"
   ],
   "window_display": false
  }
 },
 "nbformat": 4,
 "nbformat_minor": 2
}
