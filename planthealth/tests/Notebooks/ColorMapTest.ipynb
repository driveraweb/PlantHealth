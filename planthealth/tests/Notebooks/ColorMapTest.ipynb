{
 "cells": [
  {
   "cell_type": "markdown",
   "metadata": {},
   "source": [
    "# NDVI Color Mapping"
   ]
  },
  {
   "cell_type": "code",
   "execution_count": 1,
   "metadata": {},
   "outputs": [],
   "source": [
    "import sys\n",
    "sys.path.append('../..')\n",
    "\n",
    "import cv2\n",
    "from PIL import Image\n",
    "import numpy as np\n",
    "import matplotlib.pyplot as plt\n",
    "%matplotlib inline\n",
    "from core import colormap"
   ]
  },
  {
   "cell_type": "markdown",
   "metadata": {},
   "source": [
    "### Open Images"
   ]
  },
  {
   "cell_type": "code",
   "execution_count": 2,
   "metadata": {},
   "outputs": [],
   "source": [
    "#open NIR image\n",
    "disp_size = (15,11.25)\n",
    "im_nir = Image.open('../Images/t2_noblue.jpg')\n",
    "im_nir = np.array(im_nir)   #height x width x 3 numpy array\n",
    "#blue band has the NIR\n",
    "nir, _, red_nir = im_nir.T # Temporarily unpack the bands for readability\n",
    "\n",
    "#print(\"Image has resolution\", len(blue), \"x\", len(blue.T))\n",
    "\n",
    "#open RED image\n",
    "im = Image.open('../Images/t1.jpg')\n",
    "im = np.array(im)   #height x width x 3 numpy array\n",
    "_, _, red = im.T # Temporarily unpack the bands for readability"
   ]
  },
  {
   "cell_type": "markdown",
   "metadata": {},
   "source": [
    "### Register images"
   ]
  },
  {
   "cell_type": "code",
   "execution_count": 3,
   "metadata": {
    "collapsed": true
   },
   "outputs": [],
   "source": [
    "#register(red, nir)"
   ]
  },
  {
   "cell_type": "markdown",
   "metadata": {},
   "source": [
    "### Find NDVI Image"
   ]
  },
  {
   "cell_type": "code",
   "execution_count": 4,
   "metadata": {},
   "outputs": [],
   "source": [
    "ndvi = colormap(red_nir, nir)\n",
    "#ndvi_C = Image.fromarray(ndvi.T)\n",
    "ndvi_C = cv2.applyColorMap(ndvi.T, cv2.COLORMAP_BONE)\n",
    "cv2.imshow(\"Frame\", ndvi_C)\n",
    "key = cv2.waitKey(1) & 0xFF\n",
    "#plt.figure(figsize=disp_size, dpi=200)\n",
    "#plt.imshow(ndvi_C)\n",
    "#plt.colorbar()"
   ]
  },
  {
   "cell_type": "code",
   "execution_count": 5,
   "metadata": {},
   "outputs": [
    {
     "data": {
      "text/plain": [
       "(3277, 2464)"
      ]
     },
     "execution_count": 5,
     "metadata": {},
     "output_type": "execute_result"
    }
   ],
   "source": [
    "np.shape(ndvi)"
   ]
  },
  {
   "cell_type": "code",
   "execution_count": 12,
   "metadata": {
    "scrolled": false
   },
   "outputs": [
    {
     "name": "stdout",
     "output_type": "stream",
     "text": [
      "Help on built-in function waitKey:\n",
      "\n",
      "waitKey(...)\n",
      "    waitKey([, delay]) -> retval\n",
      "    .   @brief Waits for a pressed key.\n",
      "    .   \n",
      "    .   The function waitKey waits for a key event infinitely (when \\f$\\texttt{delay}\\leq 0\\f$ ) or for delay\n",
      "    .   milliseconds, when it is positive. Since the OS has a minimum time between switching threads, the\n",
      "    .   function will not wait exactly delay ms, it will wait at least delay ms, depending on what else is\n",
      "    .   running on your computer at that time. It returns the code of the pressed key or -1 if no key was\n",
      "    .   pressed before the specified time had elapsed.\n",
      "    .   \n",
      "    .   @note\n",
      "    .   \n",
      "    .   This function is the only method in HighGUI that can fetch and handle events, so it needs to be\n",
      "    .   called periodically for normal event processing unless HighGUI is used within an environment that\n",
      "    .   takes care of event processing.\n",
      "    .   \n",
      "    .   @note\n",
      "    .   \n",
      "    .   The function only works if there is at least one HighGUI window created and the window is active.\n",
      "    .   If there are several HighGUI windows, any of them can be active.\n",
      "    .   \n",
      "    .   @param delay Delay in milliseconds. 0 is the special value that means \"forever\".\n",
      "\n"
     ]
    }
   ],
   "source": [
    "help(cv2.waitKey)"
   ]
  },
  {
   "cell_type": "code",
   "execution_count": null,
   "metadata": {
    "collapsed": true
   },
   "outputs": [],
   "source": []
  }
 ],
 "metadata": {
  "kernelspec": {
   "display_name": "Python 3",
   "language": "python",
   "name": "python3"
  },
  "language_info": {
   "codemirror_mode": {
    "name": "ipython",
    "version": 3
   },
   "file_extension": ".py",
   "mimetype": "text/x-python",
   "name": "python",
   "nbconvert_exporter": "python",
   "pygments_lexer": "ipython3",
   "version": "3.6.1"
  }
 },
 "nbformat": 4,
 "nbformat_minor": 2
}
